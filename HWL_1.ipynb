{
 "cells": [
  {
   "cell_type": "markdown",
   "metadata": {},
   "source": [
    "# Урок 1. Основы клиент-серверного взаимодействия. Парсинг API"
   ]
  },
  {
   "cell_type": "markdown",
   "metadata": {},
   "source": [
    "## 1. Посмотреть документацию к API GitHub, разобраться как вывести список репозиториев для конкретного пользователя, сохранить JSON-вывод в файле *.json."
   ]
  },
  {
   "cell_type": "code",
   "execution_count": 37,
   "metadata": {},
   "outputs": [],
   "source": [
    "import requests\n",
    "import json\n",
    "from pprint import pprint"
   ]
  },
  {
   "cell_type": "code",
   "execution_count": 38,
   "metadata": {},
   "outputs": [],
   "source": [
    "username = 'AlenaKukhta'\n",
    "response = requests.get('https://api.github.com/users/' + username + '/repos')"
   ]
  },
  {
   "cell_type": "code",
   "execution_count": 39,
   "metadata": {},
   "outputs": [
    {
     "name": "stdout",
     "output_type": "stream",
     "text": [
      "'-'\n",
      "'DataBase'\n",
      "'git-repo'\n",
      "'Lesson-1.-The-basics-of-client-server-interaction.-Parsing-API'\n",
      "'Methods-of-collecting-and-processing-data-from-the-Internet'\n",
      "'PythonLibrariesForDataScience-NumpyMatplotlibScikit-learn'\n",
      "'PythonLibrariesForDataScience-NumpyMatplotlibScikit-learn_continuation-'\n",
      "'repo-github'\n",
      "'volshebnica'\n"
     ]
    }
   ],
   "source": [
    "for i in response.json():\n",
    "    pprint(i['name'])"
   ]
  },
  {
   "cell_type": "code",
   "execution_count": 40,
   "metadata": {},
   "outputs": [],
   "source": [
    "Alena Kukhtawith open('HWL_1_1.json', 'w') as f:\n",
    "    json.dump(response.json(), f)"
   ]
  },
  {
   "cell_type": "markdown",
   "metadata": {},
   "source": [
    "## 2. Изучить список открытых API (https://www.programmableweb.com/category/all/apis). Найти среди них любое, требующее авторизацию (любого типа). Выполнить запросы к нему, пройдя авторизацию. Ответ сервера записать в файл.\n",
    "\n",
    "Если нет желания заморачиваться с поиском, возьмите API вконтакте (https://vk.com/dev/first_guide). Сделайте запрос, чтобы получить список всех сообществ на которые вы подписаны."
   ]
  },
  {
   "cell_type": "code",
   "execution_count": 30,
   "metadata": {},
   "outputs": [],
   "source": [
    "import requests\n",
    "import json"
   ]
  },
  {
   "cell_type": "code",
   "execution_count": 3,
   "metadata": {},
   "outputs": [
    {
     "name": "stdout",
     "output_type": "stream",
     "text": [
      "Перейдите по ссылке:\n",
      "https://oauth.vk.com/authorize?client_id=7786786&display=page&redirect_uri=https://oauth.vk.com/blank.html&scope=friends&response_type=token&v=5.130\n",
      "и получите токен доступа.\n",
      "\n",
      "Введите токен доступа: 0c34eb1d6be8d53e5b0600e94bc21206d08413399096b49b25a9c2a0c6687697024401ff2f6b923fa3cd2&expires\n",
      "\n",
      "Список сообществ, на которые вы подписаны\n",
      "Workout | Будь в форме\n",
      "Helena Kornilova / Елена Корнилова\n",
      "Мантра\n",
      "Бизнес цитатник\n",
      "Здоровье\n",
      "Интеллектуал | Философ | Эзотерик\n",
      "Книги | Литература\n",
      "Будь лучше Сегодня!\n",
      "Привычка жить счастливо | Владимир и Елена Кален\n",
      "Couturier | Высокое шитьё\n",
      "Биохимия\n",
      "Будьте здоровы! Conspect\n",
      "Physical Transformation/Физикл\n",
      "I can workout\n",
      "Океан мудрости | Веды\n",
      "Учите английский с Би-би-си\n",
      "Безлекальный метод кроя Галины Коломейко\n",
      "ArtClub\n",
      "Интегральные исследования\n",
      "Дача\n",
      "Индустрия Красоты\n",
      "Фотосессия с готовым образом DREAMWAY\n",
      "Интернет-маркетинг от А до Я\n",
      "Сorset lady\n",
      "Проектирование и Строительство домов в СПб\n",
      "Школа Шитья Валентины Васенковой\n",
      "Sonely\n",
      "Вкусное вегетарианство\n",
      "Альтернативный образ жизни\n",
      "Aina\n",
      "МУЗЫКА И АРТ ДЛЯ ЙОГИ\n",
      "Psychology NLP\n",
      "Школа стиля Лилии Смирновой\n",
      "Золотая библиотека: бизнес, саморазвитие, успех\n",
      "Библиотека аудиокниг\n",
      "Landing Page. PRO маркетинг и сайты\n",
      "Здоровое питание | Power of will\n",
      "Unagrande YogaClub\n",
      "Tokareva Anna.Портреты по фото, картины на заказ\n",
      "Школа доброго бизнеса | Вадим Курки́н\n",
      "Life Prana\n",
      "Проект « Квартира »\n"
     ]
    }
   ],
   "source": [
    "import requests\n",
    "import json\n",
    "\n",
    "app_id = 7786786\n",
    "vk_version = '5.130'\n",
    "auth_url = f'https://oauth.vk.com/authorize?client_id={app_id}&display=page&redirect_uri=https://oauth.vk.com/blank.html&scope=friends&response_type=token&v={vk_version}';\n",
    "\n",
    "print(f'Перейдите по ссылке:\\n{auth_url}\\nи получите токен доступа.')\n",
    "access_token = input('\\nВведите токен доступа: ')\n",
    "\n",
    "response = requests.get(f'https://api.vk.com/method/groups.get?extended=1&access_token={access_token}&v={vk_version}')\n",
    "response_json = response.json()\n",
    "with open('HWL_1_2.json', 'w') as file:\n",
    "    json.dump(response_json, file)\n",
    "\n",
    "print('\\nСписок сообществ, на которые вы подписаны')\n",
    "for group in response_json['response']['items']:\n",
    "    print(f\"{group['name']}\")"
   ]
  }
 ],
 "metadata": {
  "kernelspec": {
   "display_name": "Python 3",
   "language": "python",
   "name": "python3"
  },
  "language_info": {
   "codemirror_mode": {
    "name": "ipython",
    "version": 3
   },
   "file_extension": ".py",
   "mimetype": "text/x-python",
   "name": "python",
   "nbconvert_exporter": "python",
   "pygments_lexer": "ipython3",
   "version": "3.8.5"
  }
 },
 "nbformat": 4,
 "nbformat_minor": 4
}
