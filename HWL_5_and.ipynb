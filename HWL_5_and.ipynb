{
 "cells": [
  {
   "cell_type": "markdown",
   "metadata": {},
   "source": [
    "## Урок 5. Selenium в Python"
   ]
  },
  {
   "cell_type": "code",
   "execution_count": 1,
   "metadata": {},
   "outputs": [
    {
     "name": "stdout",
     "output_type": "stream",
     "text": [
      "Requirement already satisfied: selenium in /Users/alenakukhta/opt/anaconda3/lib/python3.8/site-packages (4.0.0b2)\n",
      "Requirement already satisfied: urllib3[secure]==1.26.2 in /Users/alenakukhta/opt/anaconda3/lib/python3.8/site-packages (from selenium) (1.26.2)\n",
      "Requirement already satisfied: trio-websocket==0.9.0 in /Users/alenakukhta/opt/anaconda3/lib/python3.8/site-packages (from selenium) (0.9.0)\n",
      "Requirement already satisfied: trio==0.17.0 in /Users/alenakukhta/opt/anaconda3/lib/python3.8/site-packages (from selenium) (0.17.0)\n",
      "Requirement already satisfied: pyOpenSSL>=0.14; extra == \"secure\" in /Users/alenakukhta/opt/anaconda3/lib/python3.8/site-packages (from urllib3[secure]==1.26.2->selenium) (19.1.0)\n",
      "Requirement already satisfied: cryptography>=1.3.4; extra == \"secure\" in /Users/alenakukhta/opt/anaconda3/lib/python3.8/site-packages (from urllib3[secure]==1.26.2->selenium) (3.1.1)\n",
      "Requirement already satisfied: certifi; extra == \"secure\" in /Users/alenakukhta/opt/anaconda3/lib/python3.8/site-packages (from urllib3[secure]==1.26.2->selenium) (2020.6.20)\n",
      "Requirement already satisfied: idna>=2.0.0; extra == \"secure\" in /Users/alenakukhta/opt/anaconda3/lib/python3.8/site-packages (from urllib3[secure]==1.26.2->selenium) (2.10)\n",
      "Requirement already satisfied: async-generator>=1.10 in /Users/alenakukhta/opt/anaconda3/lib/python3.8/site-packages (from trio-websocket==0.9.0->selenium) (1.10)\n",
      "Requirement already satisfied: wsproto>=0.14 in /Users/alenakukhta/opt/anaconda3/lib/python3.8/site-packages (from trio-websocket==0.9.0->selenium) (1.0.0)\n",
      "Requirement already satisfied: attrs>=19.2.0 in /Users/alenakukhta/opt/anaconda3/lib/python3.8/site-packages (from trio==0.17.0->selenium) (20.3.0)\n",
      "Requirement already satisfied: sortedcontainers in /Users/alenakukhta/opt/anaconda3/lib/python3.8/site-packages (from trio==0.17.0->selenium) (2.2.2)\n",
      "Requirement already satisfied: sniffio in /Users/alenakukhta/opt/anaconda3/lib/python3.8/site-packages (from trio==0.17.0->selenium) (1.2.0)\n",
      "Requirement already satisfied: outcome in /Users/alenakukhta/opt/anaconda3/lib/python3.8/site-packages (from trio==0.17.0->selenium) (1.1.0)\n",
      "Requirement already satisfied: six>=1.5.2 in /Users/alenakukhta/opt/anaconda3/lib/python3.8/site-packages (from pyOpenSSL>=0.14; extra == \"secure\"->urllib3[secure]==1.26.2->selenium) (1.15.0)\n",
      "Requirement already satisfied: cffi!=1.11.3,>=1.8 in /Users/alenakukhta/opt/anaconda3/lib/python3.8/site-packages (from cryptography>=1.3.4; extra == \"secure\"->urllib3[secure]==1.26.2->selenium) (1.14.3)\n",
      "Requirement already satisfied: h11<1,>=0.9.0 in /Users/alenakukhta/opt/anaconda3/lib/python3.8/site-packages (from wsproto>=0.14->trio-websocket==0.9.0->selenium) (0.12.0)\n",
      "Requirement already satisfied: pycparser in /Users/alenakukhta/opt/anaconda3/lib/python3.8/site-packages (from cffi!=1.11.3,>=1.8->cryptography>=1.3.4; extra == \"secure\"->urllib3[secure]==1.26.2->selenium) (2.20)\n"
     ]
    }
   ],
   "source": [
    "!pip install selenium"
   ]
  },
  {
   "cell_type": "code",
   "execution_count": 2,
   "metadata": {},
   "outputs": [
    {
     "name": "stdout",
     "output_type": "stream",
     "text": [
      "Requirement already satisfied: pymongo in /Users/alenakukhta/opt/anaconda3/lib/python3.8/site-packages (3.11.3)\r\n"
     ]
    }
   ],
   "source": [
    "!pip install pymongo"
   ]
  },
  {
   "cell_type": "code",
   "execution_count": 3,
   "metadata": {},
   "outputs": [],
   "source": [
    "#импорт библиотек\n",
    "from selenium import webdriver\n",
    "from selenium.webdriver.common.keys import Keys\n",
    "from selenium.webdriver.support.ui import WebDriverWait\n",
    "from selenium.webdriver.support import expected_conditions as EC\n",
    "from selenium.webdriver.common.by import By\n",
    "from selenium.webdriver.common.action_chains import ActionChains\n",
    "from selenium.common.exceptions import TimeoutException\n",
    "from datetime import datetime, timedelta\n",
    "from pymongo import MongoClient\n",
    "from selenium.webdriver.chrome.options import Options\n",
    "from selenium.webdriver.chrome.service import Service\n",
    "\n",
    "import unittest\n",
    "import time\n",
    "import locale\n",
    "import json"
   ]
  },
  {
   "cell_type": "markdown",
   "metadata": {},
   "source": [
    "#### 1) Написать программу, которая собирает входящие письма из своего или тестового почтового ящика и сложить данные о письмах в базу данных\n",
    "- от кого,\n",
    "- дата отправки,\n",
    "- тема письма,\n",
    "- текст письма полный.\n",
    "\n",
    "Логин тестового ящика: study.ai_172@mail.ru\n",
    "\n",
    "Пароль тестового ящика: NextPassword172"
   ]
  },
  {
   "cell_type": "code",
   "execution_count": 4,
   "metadata": {},
   "outputs": [
    {
     "name": "stdout",
     "output_type": "stream",
     "text": [
      "Вход — Почта Mail.Ru\n"
     ]
    },
    {
     "name": "stderr",
     "output_type": "stream",
     "text": [
      "/Users/alenakukhta/opt/anaconda3/lib/python3.8/site-packages/selenium/webdriver/remote/webdriver.py:572: UserWarning: find_element_by_* commands are deprecated. Please use find_element() instead\n",
      "  warnings.warn(\"find_element_by_* commands are deprecated. Please use find_element() instead\")\n"
     ]
    },
    {
     "name": "stdout",
     "output_type": "stream",
     "text": [
      "25\n"
     ]
    },
    {
     "name": "stderr",
     "output_type": "stream",
     "text": [
      "/Users/alenakukhta/opt/anaconda3/lib/python3.8/site-packages/selenium/webdriver/remote/webdriver.py:452: UserWarning: find_element_by_* commands are deprecated. Please use find_element() instead\n",
      "  warnings.warn(\"find_element_by_* commands are deprecated. Please use find_element() instead\")\n",
      "/Users/alenakukhta/opt/anaconda3/lib/python3.8/site-packages/selenium/webdriver/remote/webdriver.py:412: UserWarning: find_element_by_* commands are deprecated. Please use find_element() instead\n",
      "  warnings.warn(\"find_element_by_* commands are deprecated. Please use find_element() instead\")\n"
     ]
    },
    {
     "name": "stdout",
     "output_type": "stream",
     "text": [
      "3\n",
      "Информация о письмах сохранена в файл json\n",
      "Сформирована БД по найденным письмам\n"
     ]
    }
   ],
   "source": [
    "#опции\n",
    "chrome_options = Options()\n",
    "chrome_options.add_argument('start-maximized')\n",
    "\n",
    "#путь до драйвера\n",
    "service = Service(executable_path='../chromedriver')\n",
    "\n",
    "#драйвер\n",
    "driver = webdriver.Chrome(service=service,options=chrome_options)\n",
    "driver.get('https://m.mail.ru/login') #мобильная версия\n",
    "#driver.get('https://mail.ru')\n",
    "\n",
    "print(driver.title)\n",
    "assert \"Вход — Почта Mail.Ru\" in driver.title\n",
    "\n",
    "#БД\n",
    "client = MongoClient('localhost', 27017)\n",
    "db = client['mail_inbox_db']\n",
    "collection = db.letters\n",
    "\n",
    "#время на загрузку\n",
    "authorization = WebDriverWait(driver, 5).until(EC.presence_of_element_located((By.NAME, \"Login\")))\n",
    "\n",
    "#авторизация\n",
    "authorization.send_keys('study.ai_172@mail.ru')\n",
    "authorization = driver.find_element_by_name('Password')\n",
    "authorization.send_keys('NextPassword172')\n",
    "authorization.send_keys(Keys.RETURN)\n",
    "\n",
    "#переменные\n",
    "def get_message_info(lnk):\n",
    "    info = {}\n",
    "    driver.get(lnk)\n",
    "    time.sleep(2)\n",
    "    theme = driver.find_element_by_xpath(\"//td[@class='readmsg__theme-box__line']/span\")\n",
    "    info[\"theme\"] = theme.text\n",
    "    msg_from = driver.find_element_by_xpath(\"//div[@class='readmsg__text-container']/div[1]/a\")\n",
    "    when = driver.find_element_by_xpath(\"//div[@class='readmsg__text-container']/div[2]/div/span\")\n",
    "    info[\"from\"] = msg_from.text\n",
    "    info[\"date\"] = when.text\n",
    "    body = driver.find_element_by_id(\"readmsg__body\")\n",
    "    info[\"body\"] = body.text\n",
    "    driver.back()\n",
    "    return info\n",
    "\n",
    "#сбор информации\n",
    "msg_list = []\n",
    "while True:\n",
    "    time.sleep(2)\n",
    "    l_links = WebDriverWait(driver, 5).until(EC.presence_of_all_elements_located((By.XPATH,\"//a[@class='messageline__link']\")))\n",
    "    print(len(l_links))\n",
    "    link_list = []\n",
    "    for link in l_links:\n",
    "        link_list.append(link.get_attribute(\"href\"))\n",
    "\n",
    "    for href in link_list:\n",
    "        info = get_message_info(href)\n",
    "        msg_list.append(info)\n",
    "    try:\n",
    "        a_next = WebDriverWait(driver, 3).until(EC.presence_of_element_located((By.XPATH, \"//a[@title='Следующая страница']\")))\n",
    "        driver.get(a_next.get_attribute(\"href\"))\n",
    "    except:\n",
    "        break\n",
    "\n",
    "#формирование файла\n",
    "try:\n",
    "    with open('mail.json', 'w', encoding='utf-8') as file:\n",
    "        json.dump(msg_list, file, indent=2, ensure_ascii=False)\n",
    "    print(f'Информация о письмах сохранена в файл json')\n",
    "except:\n",
    "    print(f'Ой-ёй...файл...')\n",
    "    \n",
    "#формирование БД    \n",
    "client = MongoClient(\"localhost\",27017)\n",
    "db = client[\"mailru\"]\n",
    "db_msgs = db.messages\n",
    "try:\n",
    "    db_msgs.insert_many(msg_list)\n",
    "    print(f'Сформирована БД по найденным письмам')\n",
    "except:\n",
    "    print(\"Что-то пошло не так с ДБ\")\n",
    "\n",
    "client.close()\n",
    "driver.quit()"
   ]
  },
  {
   "cell_type": "markdown",
   "metadata": {},
   "source": [
    "#### 2) Написать программу, которая собирает «Хиты продаж» с сайта техники mvideo и складывает данные в БД. \n",
    "Магазины можно выбрать свои. \n",
    "Главный критерий выбора: динамически загружаемые товары"
   ]
  },
  {
   "cell_type": "code",
   "execution_count": 5,
   "metadata": {},
   "outputs": [
    {
     "name": "stderr",
     "output_type": "stream",
     "text": [
      "/Users/alenakukhta/opt/anaconda3/lib/python3.8/site-packages/selenium/webdriver/remote/webdriver.py:471: UserWarning: find_elements_by_* commands are deprecated. Please use find_elements() instead\n",
      "  warnings.warn(\"find_elements_by_* commands are deprecated. Please use find_elements() instead\")\n"
     ]
    },
    {
     "name": "stdout",
     "output_type": "stream",
     "text": [
      "Информация собрана по 16 найденным товаров блока Хиты продаж\n",
      "Информация по найденным товарам сохранена в файл json\n",
      "Сформирована БД по найденным товарам\n"
     ]
    }
   ],
   "source": [
    "#опции\n",
    "chrome_options = Options()\n",
    "chrome_options.add_argument('start-maximized')\n",
    "\n",
    "#путь до драйвера\n",
    "service = Service(executable_path='../chromedriver')\n",
    "\n",
    "#драйвер\n",
    "driver = webdriver.Chrome(service=service, options=chrome_options)\n",
    "driver.get('https://www.mvideo.ru/')\n",
    "\n",
    "#переменные\n",
    "time.sleep(5)\n",
    "item_xpath = \"//div[contains(text(), 'Хиты продаж')]/../../..\"\n",
    "next_button = \"//a[contains(@href, '#')][2]\"\n",
    "product_info = \"//div/ul/li//h4/a\"\n",
    "pause = WebDriverWait(driver, 10)\n",
    "\n",
    "#сбор информации\n",
    "try:\n",
    "    next = pause.until(EC.presence_of_element_located((By.XPATH, item_xpath + next_button)))\n",
    "    for x in range(5):\n",
    "        next.click()\n",
    "        time.sleep(2)\n",
    "    items = driver.find_elements_by_xpath(item_xpath + product_info)\n",
    "    hits = []\n",
    "    for item in items:\n",
    "        product_info = json.loads(item.get_attribute('data-product-info'))\n",
    "        hits.append(product_info)\n",
    "finally:\n",
    "    print(f'Информация собрана по {len(hits)} найденным товаров блока Хиты продаж')\n",
    "    driver.close()\n",
    "\n",
    "#формировние файла\n",
    "try:\n",
    "    with open('mvideo.json', 'w', encoding='utf-8') as file:\n",
    "        json.dump(hits, file, indent=2, ensure_ascii=False)\n",
    "    print(f'Информация по найденным товарам сохранена в файл json')\n",
    "except:\n",
    "    print(f'Ой-ёй...файл...')\n",
    "\n",
    "#формирование БД\n",
    "try:\n",
    "    client = MongoClient('localhost', 27017)\n",
    "    db = client['Downloads']\n",
    "    collection = db.mvideo\n",
    "    collection.delete_many({})\n",
    "    for hit in hits:\n",
    "        try:\n",
    "            collection.insert_one(hit)\n",
    "        except:\n",
    "            print(f'то-то пошло не так: {hit}')\n",
    "    print(f'Сформирована БД по найденным товарам')\n",
    "except:\n",
    "    print(f'Ух...БД...')"
   ]
  }
 ],
 "metadata": {
  "kernelspec": {
   "display_name": "Python 3",
   "language": "python",
   "name": "python3"
  },
  "language_info": {
   "codemirror_mode": {
    "name": "ipython",
    "version": 3
   },
   "file_extension": ".py",
   "mimetype": "text/x-python",
   "name": "python",
   "nbconvert_exporter": "python",
   "pygments_lexer": "ipython3",
   "version": "3.8.5"
  }
 },
 "nbformat": 4,
 "nbformat_minor": 4
}
