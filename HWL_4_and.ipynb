{
 "cells": [
  {
   "cell_type": "markdown",
   "metadata": {},
   "source": [
    "# Урок 4. Парсинг HTML. XPath"
   ]
  },
  {
   "cell_type": "markdown",
   "metadata": {},
   "source": [
    "## 1 задание. Написать приложение, которое собирает основные новости с сайтов news.mail.ru, lenta.ru, yandex-новости. Для парсинга использовать XPath. \n",
    "\n",
    "Структура данных должна содержать:\n",
    "- название источника;\n",
    "- наименование новости;\n",
    "- ссылку на новость;\n",
    "- дата публикации."
   ]
  },
  {
   "cell_type": "code",
   "execution_count": 1,
   "metadata": {},
   "outputs": [],
   "source": [
    "from lxml import html\n",
    "from pprint import pprint\n",
    "import requests\n",
    "from pymongo import MongoClient"
   ]
  },
  {
   "cell_type": "code",
   "execution_count": 2,
   "metadata": {},
   "outputs": [],
   "source": [
    "main_link_mail = 'https://news.mail.ru'\n",
    "main_link_lenta = 'https://lenta.ru'\n",
    "main_link_yandex = 'https://yandex.ru/news'"
   ]
  },
  {
   "cell_type": "code",
   "execution_count": 3,
   "metadata": {},
   "outputs": [],
   "source": [
    "# Функция для получения DOM сайта. В качестве аргумента принимает ссылку\n",
    "def get_dom(link):\n",
    "    header = {'user-agent':'Mozilla/5.0 (Macintosh; Intel Mac OS X 11_2_3) AppleWebKit/537.36 (KHTML, like Gecko) Chrome/89.0.4389.90 Safari/537.36'}\n",
    "    response = requests.get(link, headers=header)\n",
    "    dom = html.fromstring(response.text)\n",
    "    return dom\n",
    "\n",
    "# Функция для очистки списка и отображения первого элемента. В качестве аргумента принимает список\n",
    "def list_len(list):\n",
    "    try:\n",
    "        el = list[0].replace('\\xa0', ' ')\n",
    "        return el\n",
    "    except:\n",
    "        pass\n",
    "# Функция конструктор ссылок. В качестве аргумента принимает основную ссылку и сокращенную    \n",
    "def link_constr(main_link, link):\n",
    "    if 'https://' not in link:\n",
    "        link = main_link + link\n",
    "    else:\n",
    "        link\n",
    "    return link\n",
    "\n",
    "# Функция добавления документов в коллекции. В качестве аргументов принимает добавляемый словарь и коллекцию для добавления\n",
    "def add_collection(news_dict, collection):\n",
    "    for new in news_dict:\n",
    "        count = 0\n",
    "        if collection.count_documents({'title': new['title']}) == 0:\n",
    "            collection.insert_one(new)\n",
    "            count += 1\n",
    "    print(f'В коллекцию {collection.name} добавлено {count} документов. Всего документов в коллекции {collection.count_documents({})}')"
   ]
  },
  {
   "cell_type": "code",
   "execution_count": 4,
   "metadata": {},
   "outputs": [
    {
     "name": "stdout",
     "output_type": "stream",
     "text": [
      "{'date': ' 19:29, 17 марта 2021',\n",
      " 'link': 'https://lenta.ru/news/2021/03/17/crmiea/',\n",
      " 'source': 'https://lenta.ru',\n",
      " 'title': 'В Госдуме ответили на заявление Украины об обязанности Германии '\n",
      "          'вернуть Крым'}\n"
     ]
    }
   ],
   "source": [
    "# Сбор новостей с сайта lenta.ru\n",
    "\n",
    "dom_lenta = get_dom(main_link_lenta)\n",
    "\n",
    "section = dom_lenta.xpath(\"//section[@class='mg-grid__row mg-grid__row_gap_8 news-top-flexible-stories news-app__top']//div[@class='item'] | //section[@class='row b-top7-for-main js-top-seven']//div[@class='first-item']\")\n",
    "\n",
    "lenta_news =[]\n",
    "\n",
    "for new in section:\n",
    "    lenta_new = {}\n",
    "    title = list_len(new.xpath(\"./a/text() | ./h2/a/text()\"))\n",
    "\n",
    "    link = list_len(new.xpath(\".//@href | ./h2//@href\"))\n",
    "    link = link_constr(main_link_lenta, link)\n",
    "    \n",
    "    date = list_len(new.xpath(\".//time/@datetime | .//time/@datetime\"))\n",
    "    source = main_link_lenta\n",
    "    \n",
    "    lenta_new['source'] = source\n",
    "    lenta_new['title'] = title\n",
    "    lenta_new['link'] = link\n",
    "    lenta_new['date'] = date\n",
    "    \n",
    "    lenta_news.append(lenta_new)\n",
    "    \n",
    "pprint(lenta_news[0])"
   ]
  },
  {
   "cell_type": "code",
   "execution_count": 5,
   "metadata": {},
   "outputs": [
    {
     "name": "stdout",
     "output_type": "stream",
     "text": [
      "{'date': '19:38',\n",
      " 'link': 'https://yandex.ru/news/story/Bajden_zayavil_ob_otvetstvennosti_RF_zavmeshatelstvo_vvybory_vSSHA--3afd2e6a99e7af6392552cde07daf6e1?lang=ru&rubric=index&fan=1&stid=zCdsXO5uGpU2dXzg3fk4&t=1615999375&tt=true&persistent_id=135715037',\n",
      " 'source': 'Известия',\n",
      " 'title': 'Байден заявил об ответственности РФ за вмешательство в выборы в США'}\n"
     ]
    }
   ],
   "source": [
    "# Сбор новостей с сайта yandex.ru\n",
    "\n",
    "dom_yandex = get_dom(main_link_yandex)\n",
    "\n",
    "section = dom_yandex.xpath(\"//div[@class = 'mg-grid__row mg-grid__row_gap_8 news-top-flexible-stories news-app__top']\") \n",
    "\n",
    "yandex_news =[]\n",
    "\n",
    "for new in section:\n",
    "    yandex_new = {}\n",
    "\n",
    "    title = list_len(new.xpath(\".//h2/text()\"))\n",
    "    link = list_len(new.xpath(\".//a/@href\"))\n",
    "    link = link_constr(main_link_yandex, link)\n",
    "    \n",
    "    date = list_len(new.xpath(\".//span[@class = 'mg-card-source__time']/text()\"))\n",
    "    source = list_len(new.xpath(\".//span[@class = 'mg-card-source__source']/a/text()\"))\n",
    "    \n",
    "    yandex_new['source'] = source\n",
    "    yandex_new['title'] = title\n",
    "    yandex_new['link'] = link\n",
    "    yandex_new['date'] = date   \n",
    "    \n",
    "    yandex_news.append(yandex_new)\n",
    "    \n",
    "pprint(yandex_news[0])"
   ]
  },
  {
   "cell_type": "code",
   "execution_count": 6,
   "metadata": {},
   "outputs": [
    {
     "name": "stdout",
     "output_type": "stream",
     "text": [
      "{'date': '2021-03-17T17:26:12+03:00',\n",
      " 'link': 'https://news.mail.ru/economics/45591121/',\n",
      " 'source': 'Известия',\n",
      " 'title': 'Счетная палата сочла риск топливного кризиса в России минимальным'}\n"
     ]
    }
   ],
   "source": [
    "# Сбор новостей с сайта mail.ru\n",
    "\n",
    "dom_mail = get_dom(main_link_mail)\n",
    "\n",
    "section = dom_mail.xpath(\"//div[contains(@data-counter-id, '20268335')]//a[contains(@class, photo)]\")\n",
    "\n",
    "mail_news =[]\n",
    "\n",
    "for new in section:\n",
    "    mail_new = {}\n",
    "\n",
    "    link = list_len(new.xpath(\".//@href\"))\n",
    "    link = link_constr(main_link_mail, link)\n",
    "    \n",
    "    temp_dom = get_dom(link)\n",
    "    \n",
    "    title = list_len(temp_dom.xpath(\"//h1/text()\"))\n",
    "    date = list_len(temp_dom.xpath(\"//span[@class = 'note__text breadcrumbs__text js-ago']/@datetime\"))\n",
    "    source = list_len(temp_dom.xpath(\"//a[@class = 'link color_gray breadcrumbs__link']//span/text()\"))\n",
    "    \n",
    "    mail_new['source'] = source\n",
    "    mail_new['title'] = title\n",
    "    mail_new['link'] = link\n",
    "    mail_new['date'] = date   \n",
    "    \n",
    "    mail_news.append(mail_new)\n",
    "    \n",
    "pprint(mail_news[0])"
   ]
  },
  {
   "cell_type": "markdown",
   "metadata": {},
   "source": [
    "## 2 задание. Сложить собранные данные в БД"
   ]
  },
  {
   "cell_type": "code",
   "execution_count": 7,
   "metadata": {},
   "outputs": [
    {
     "name": "stdout",
     "output_type": "stream",
     "text": [
      "В коллекцию news_lenta добавлено 0 документов. Всего документов в коллекции 10\n",
      "В коллекцию news_mail добавлено 0 документов. Всего документов в коллекции 11\n",
      "В коллекцию news_yandex добавлено 0 документов. Всего документов в коллекции 1\n"
     ]
    }
   ],
   "source": [
    "# Подключаемся к MongoDB\n",
    "client = MongoClient('127.0.0.1', 27017)\n",
    "\n",
    "# Cоздаем указатель к нашей базе данных\n",
    "db = client['news_database']\n",
    "\n",
    "# Создаем коллекции\n",
    "news_lenta = db.news_lenta\n",
    "news_yandex = db.news_yandex\n",
    "news_mail = db.news_mail\n",
    "\n",
    "# Добавляем документы в соответствующие коллкции\n",
    "add_collection(lenta_news, news_lenta)\n",
    "add_collection(mail_news, news_mail)\n",
    "add_collection(yandex_news, news_yandex)"
   ]
  }
 ],
 "metadata": {
  "kernelspec": {
   "display_name": "Python 3",
   "language": "python",
   "name": "python3"
  },
  "language_info": {
   "codemirror_mode": {
    "name": "ipython",
    "version": 3
   },
   "file_extension": ".py",
   "mimetype": "text/x-python",
   "name": "python",
   "nbconvert_exporter": "python",
   "pygments_lexer": "ipython3",
   "version": "3.8.5"
  }
 },
 "nbformat": 4,
 "nbformat_minor": 4
}
